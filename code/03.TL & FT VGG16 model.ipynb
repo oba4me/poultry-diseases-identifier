{
 "cells": [
  {
   "cell_type": "markdown",
   "id": "8cb40053",
   "metadata": {},
   "source": [
    "# Transfer Learning\n",
    "\n",
    "In transfer learning, the knowledge of an already trained machine learning model is applied to a different but related problem. For example, if you trained a simple classifier to predict whether an image contains a watch, you could use the knowledge that the model gained during its training to recognize other objects like clock.\n",
    "\n",
    "## Pre-trained model as Feature Extractor\n",
    "Remove the last dense layer which is performing classification and use this pre-trained model as Feature Extractor.Fixed feature extractor for the new dataset.\n",
    "For example, if you want to build a self learning car. You can spend years to build a decent image recognition algorithm from scratch or you can take inception model (a pre-trained model) from Google which was built on ImageNet data to identify images in those pictures."
   ]
  },
  {
   "cell_type": "markdown",
   "id": "6adb2f5f",
   "metadata": {},
   "source": [
    "![tf](../picture/tf.jpeg)"
   ]
  },
  {
   "cell_type": "markdown",
   "id": "9d98d673",
   "metadata": {},
   "source": [
    "## VGG16 model \n",
    "VGG is a deep convolutional neural network that was proposed by Karen Simonyan and Andrew Zisserman. VGG is an acronym for their group name, Visual Geometry Group, from the Oxford University. This model secured 2nd place in the ILSVRC-2014 competition where 92.7% classification performance was achieved. The VGG model investigates the depth of layers with a very small convolutional filter size (3 × 3) to deal with large-scale images. \n",
    "\n",
    "The structure of VGG16 is described by the following figure:\n",
    "![vgg16](../picture/vgg16.png)\n",
    "\n",
    "Figure is shown the architecture of VGG16. Source: Researchgate.net\n",
    "\n",
    "VGG16 is composed of 13 convolutional layers, 5 max-pooling layers, and 3 fully connected layers. Therefore, the number of layers having tunable parameters is 16 (13 convolutional layers and 3 fully connected layers). That is the reason why the model name is VGG16. The number of filters in the first block is 64, then this number is doubled in the later blocks until it reaches 512. This model is finished by two fully connected hidden layers and one output layer. The two fully connected layers have the same neuron numbers which are 4096. The output layer consists of 1000 neurons corresponding to the number of categories of the Imagenet dataset. In the next section, we are going to implement this architecture on Keras.[Source](https://medium.com/mlearning-ai/an-overview-of-vgg16-and-nin-models-96e4bf398484)\n",
    "\n",
    "VGG16 used large feature sizes in many layers and thus inference was quite costly at run-time. But we decide to select to training in my project because that is starter model in transfer learning image classification and easy to pre-processing for training. "
   ]
  },
  {
   "cell_type": "code",
   "execution_count": 1,
   "id": "b4661f28",
   "metadata": {
    "executionInfo": {
     "elapsed": 3315,
     "status": "ok",
     "timestamp": 1668084570904,
     "user": {
      "displayName": "Kanitin Sd",
      "userId": "09619709062475860508"
     },
     "user_tz": -420
    },
    "id": "b4661f28"
   },
   "outputs": [],
   "source": [
    "# Import library\n",
    "import matplotlib.pyplot as plt\n",
    "import numpy as np\n",
    "import pandas as pd\n",
    "from IPython.display import Image\n",
    "\n",
    "# Open file\n",
    "import os\n",
    "import PIL\n",
    "\n",
    "# Model CNN (Deep learning network)\n",
    "import tensorflow as tf\n",
    "from tensorflow import keras\n",
    "from tensorflow.keras import layers\n",
    "from tensorflow.keras.models import Sequential\n",
    "from tensorflow.keras.layers import Conv2D, MaxPooling2D, Dense,\\\n",
    "GlobalAveragePooling2D, Dropout, Flatten\n",
    "from tensorflow.keras.optimizers import Adam\n",
    "from tensorflow.keras.preprocessing.image import ImageDataGenerator\n",
    "\n",
    "# set default random state \n",
    "from random import seed"
   ]
  },
  {
   "cell_type": "code",
   "execution_count": 2,
   "id": "b132e86e",
   "metadata": {},
   "outputs": [],
   "source": [
    "# Create function plot loss function and accuracy score graph\n",
    "def plot_graph(model_values):\n",
    "    ''' \n",
    "    Input : Model_values of keras.callbacks.History\n",
    "    Return : Graph of Loss function and accuracy score between training dataset and vaildation dataset\n",
    "    '''\n",
    "    # Subplots\n",
    "    fig, ax = plt.subplots(1, 2, figsize=(14,5))\n",
    "    \n",
    "    # Plot loss\n",
    "    plt.subplot(1, 2, 1)\n",
    "    plt.plot(model_values.history['loss'], label='Training Loss');\n",
    "    plt.plot(model_values.history['val_loss'], label='Testing Loss');\n",
    "    plt.legend(fontsize=12, loc='upper right')\n",
    "    plt.title('Training and Validation Loss')\n",
    "    plt.xlabel('Epochs')\n",
    "    plt.ylabel('Loss');\n",
    "    \n",
    "    # Plot MSE\n",
    "    plt.subplot(1, 2, 2)\n",
    "    \n",
    "    plt.plot(model_values.history['accuracy'], label='Training Accuracy')\n",
    "    plt.plot(model_values.history['val_accuracy'], label='Validation Accuracy')\n",
    "    \n",
    "    plt.legend(fontsize=12, loc='lower right')\n",
    "    plt.title('Training and Validation Accuracy')\n",
    "    plt.xlabel('Epochs')\n",
    "    plt.ylabel('Accuracy');"
   ]
  },
  {
   "cell_type": "markdown",
   "id": "b7b80c53",
   "metadata": {},
   "source": [
    "### 00 First, check GPU.\n",
    "---"
   ]
  },
  {
   "cell_type": "code",
   "execution_count": 3,
   "id": "599ddef0",
   "metadata": {},
   "outputs": [
    {
     "name": "stdout",
     "output_type": "stream",
     "text": [
      "[name: \"/device:CPU:0\"\n",
      "device_type: \"CPU\"\n",
      "memory_limit: 268435456\n",
      "locality {\n",
      "}\n",
      "incarnation: 9667605639437613414\n",
      "xla_global_id: -1\n",
      ", name: \"/device:GPU:0\"\n",
      "device_type: \"GPU\"\n",
      "memory_limit: 2914307278\n",
      "locality {\n",
      "  bus_id: 1\n",
      "  links {\n",
      "  }\n",
      "}\n",
      "incarnation: 2515739802823255006\n",
      "physical_device_desc: \"device: 0, name: NVIDIA GeForce GTX 1050, pci bus id: 0000:01:00.0, compute capability: 6.1\"\n",
      "xla_global_id: 416903419\n",
      "]\n"
     ]
    }
   ],
   "source": [
    "# https://www.tensorflow.org/guide/keras/sequential_model\n",
    "# Due to we use Keras Sequential API, \n",
    "# We want to check GPU first before training our model for \n",
    "# impore efficiency and reduce time. \n",
    "from tensorflow.python.client import device_lib\n",
    "print(device_lib.list_local_devices())"
   ]
  },
  {
   "cell_type": "markdown",
   "id": "17c2b80e",
   "metadata": {
    "id": "17c2b80e"
   },
   "source": [
    "### 01 Open dataset \n",
    "---"
   ]
  },
  {
   "cell_type": "code",
   "execution_count": 4,
   "id": "80957f3a",
   "metadata": {
    "executionInfo": {
     "elapsed": 8,
     "status": "ok",
     "timestamp": 1668084876590,
     "user": {
      "displayName": "Kanitin Sd",
      "userId": "09619709062475860508"
     },
     "user_tz": -420
    },
    "id": "80957f3a"
   },
   "outputs": [],
   "source": [
    "# Open path file of dataset \n",
    "seed(42)\n",
    "dataset_path_new = \"dataset_train_valid_test\"\n",
    "\n",
    "train_dir = os.path.join(dataset_path_new, \"train\")\n",
    "valid_dir = os.path.join(dataset_path_new, \"valid\")\n",
    "test_dir = os.path.join(dataset_path_new, \"test\")"
   ]
  },
  {
   "cell_type": "markdown",
   "id": "4c2839d8",
   "metadata": {
    "id": "4c2839d8"
   },
   "source": [
    "### 02 Preprocessing image dataset \n",
    "---"
   ]
  },
  {
   "cell_type": "code",
   "execution_count": 5,
   "id": "ed35c46b",
   "metadata": {
    "executionInfo": {
     "elapsed": 787,
     "status": "ok",
     "timestamp": 1668084957476,
     "user": {
      "displayName": "Kanitin Sd",
      "userId": "09619709062475860508"
     },
     "user_tz": -420
    },
    "id": "ed35c46b"
   },
   "outputs": [],
   "source": [
    "# Set parameter of image \n",
    "# The default input size for this VGG16 model is 224x224\n",
    "# https://keras.io/api/applications/vgg/\n",
    "batch_size = 50 # Set the batch size for epoch cycle\n",
    "img_height = 224 # Set the height of the picture\n",
    "img_width = 224 # Set the width of the picture\n",
    "\n",
    "# Rescale pixel to reduce image size before using in model\n",
    "data_gen_train = ImageDataGenerator(rescale=1/255.)\n",
    "data_gen_valid = ImageDataGenerator(rescale=1/255.)\n",
    "data_gen_test = ImageDataGenerator(rescale=1/255.)"
   ]
  },
  {
   "cell_type": "code",
   "execution_count": 6,
   "id": "6f1b9c13",
   "metadata": {
    "colab": {
     "base_uri": "https://localhost:8080/"
    },
    "executionInfo": {
     "elapsed": 17885,
     "status": "ok",
     "timestamp": 1668084977354,
     "user": {
      "displayName": "Kanitin Sd",
      "userId": "09619709062475860508"
     },
     "user_tz": -420
    },
    "id": "6f1b9c13",
    "outputId": "e9832490-9771-4c4e-b110-5996e40eb656"
   },
   "outputs": [
    {
     "name": "stdout",
     "output_type": "stream",
     "text": [
      "Found 7796 images belonging to 4 classes.\n",
      "Found 816 images belonging to 4 classes.\n",
      "Found 805 images belonging to 4 classes.\n"
     ]
    }
   ],
   "source": [
    "# Create training dataset \n",
    "train_dataset = data_gen_train.flow_from_directory(train_dir,\n",
    "                                                   class_mode=\"categorical\",\n",
    "                                                   target_size=(img_height, img_width),\n",
    "                                                   batch_size=batch_size)\n",
    " \n",
    "\n",
    "# Create validation dataset \n",
    "valid_dataset = data_gen_valid.flow_from_directory(valid_dir,\n",
    "                                                   class_mode=\"categorical\",\n",
    "                                                   target_size=(img_height, img_width),\n",
    "                                                   batch_size=batch_size)\n",
    "\n",
    "# Create testing dataset \n",
    "test_dataset = data_gen_test.flow_from_directory(test_dir,\n",
    "                                                   class_mode=\"categorical\",\n",
    "                                                   target_size=(img_height, img_width),\n",
    "                                                   batch_size=batch_size)"
   ]
  },
  {
   "cell_type": "markdown",
   "id": "6d72b3c6",
   "metadata": {},
   "source": [
    "---"
   ]
  },
  {
   "cell_type": "markdown",
   "id": "0d043f2e",
   "metadata": {},
   "source": [
    "### 03 VGG16 model training \n",
    "---"
   ]
  },
  {
   "cell_type": "markdown",
   "id": "529afb27",
   "metadata": {},
   "source": [
    "#### Transfer learning"
   ]
  },
  {
   "cell_type": "code",
   "execution_count": 7,
   "id": "bb77f91a",
   "metadata": {
    "colab": {
     "base_uri": "https://localhost:8080/"
    },
    "executionInfo": {
     "elapsed": 8331,
     "status": "ok",
     "timestamp": 1668085023310,
     "user": {
      "displayName": "Kanitin Sd",
      "userId": "09619709062475860508"
     },
     "user_tz": -420
    },
    "id": "bb77f91a",
    "outputId": "35e3c7ee-69d3-4301-a826-f2b81403688f"
   },
   "outputs": [],
   "source": [
    "# import vgg16 model form keras API\n",
    "# set input size of image of trianing is 224x224\n",
    "# due to we want to use transfer learning process \n",
    "# we must add `include_top=False` because we wan to add our input data \n",
    "# we decide default weigh for model \n",
    "vgg16_model = tf.keras.applications.VGG16(input_shape=(224,224,3),\n",
    "                                          include_top=False, # Transfer learning\n",
    "                                          weights=\"imagenet\",\n",
    "                                          )"
   ]
  },
  {
   "cell_type": "code",
   "execution_count": 8,
   "id": "61596dc1",
   "metadata": {
    "colab": {
     "base_uri": "https://localhost:8080/"
    },
    "executionInfo": {
     "elapsed": 556,
     "status": "ok",
     "timestamp": 1668085051328,
     "user": {
      "displayName": "Kanitin Sd",
      "userId": "09619709062475860508"
     },
     "user_tz": -420
    },
    "id": "61596dc1",
    "outputId": "fee58205-2890-42c2-cfc2-c7c5bb4625ef"
   },
   "outputs": [
    {
     "name": "stdout",
     "output_type": "stream",
     "text": [
      "Model: \"vgg16\"\n",
      "_________________________________________________________________\n",
      " Layer (type)                Output Shape              Param #   \n",
      "=================================================================\n",
      " input_1 (InputLayer)        [(None, 224, 224, 3)]     0         \n",
      "                                                                 \n",
      " block1_conv1 (Conv2D)       (None, 224, 224, 64)      1792      \n",
      "                                                                 \n",
      " block1_conv2 (Conv2D)       (None, 224, 224, 64)      36928     \n",
      "                                                                 \n",
      " block1_pool (MaxPooling2D)  (None, 112, 112, 64)      0         \n",
      "                                                                 \n",
      " block2_conv1 (Conv2D)       (None, 112, 112, 128)     73856     \n",
      "                                                                 \n",
      " block2_conv2 (Conv2D)       (None, 112, 112, 128)     147584    \n",
      "                                                                 \n",
      " block2_pool (MaxPooling2D)  (None, 56, 56, 128)       0         \n",
      "                                                                 \n",
      " block3_conv1 (Conv2D)       (None, 56, 56, 256)       295168    \n",
      "                                                                 \n",
      " block3_conv2 (Conv2D)       (None, 56, 56, 256)       590080    \n",
      "                                                                 \n",
      " block3_conv3 (Conv2D)       (None, 56, 56, 256)       590080    \n",
      "                                                                 \n",
      " block3_pool (MaxPooling2D)  (None, 28, 28, 256)       0         \n",
      "                                                                 \n",
      " block4_conv1 (Conv2D)       (None, 28, 28, 512)       1180160   \n",
      "                                                                 \n",
      " block4_conv2 (Conv2D)       (None, 28, 28, 512)       2359808   \n",
      "                                                                 \n",
      " block4_conv3 (Conv2D)       (None, 28, 28, 512)       2359808   \n",
      "                                                                 \n",
      " block4_pool (MaxPooling2D)  (None, 14, 14, 512)       0         \n",
      "                                                                 \n",
      " block5_conv1 (Conv2D)       (None, 14, 14, 512)       2359808   \n",
      "                                                                 \n",
      " block5_conv2 (Conv2D)       (None, 14, 14, 512)       2359808   \n",
      "                                                                 \n",
      " block5_conv3 (Conv2D)       (None, 14, 14, 512)       2359808   \n",
      "                                                                 \n",
      " block5_pool (MaxPooling2D)  (None, 7, 7, 512)         0         \n",
      "                                                                 \n",
      "=================================================================\n",
      "Total params: 14,714,688\n",
      "Trainable params: 14,714,688\n",
      "Non-trainable params: 0\n",
      "_________________________________________________________________\n"
     ]
    }
   ],
   "source": [
    "# model summary\n",
    "vgg16_model.summary()"
   ]
  },
  {
   "cell_type": "code",
   "execution_count": 9,
   "id": "53978e75",
   "metadata": {
    "executionInfo": {
     "elapsed": 1646,
     "status": "ok",
     "timestamp": 1668085059866,
     "user": {
      "displayName": "Kanitin Sd",
      "userId": "09619709062475860508"
     },
     "user_tz": -420
    },
    "id": "53978e75"
   },
   "outputs": [],
   "source": [
    "# fix weights and bias in hidden layers\n",
    "# train specifically custom head and output layer\n",
    "vgg16_model.trainable=False"
   ]
  },
  {
   "cell_type": "markdown",
   "id": "b6ee38a0",
   "metadata": {
    "id": "b6ee38a0"
   },
   "source": [
    "#### Add custom head and output layers "
   ]
  },
  {
   "cell_type": "code",
   "execution_count": 10,
   "id": "88e05f39",
   "metadata": {
    "executionInfo": {
     "elapsed": 757,
     "status": "ok",
     "timestamp": 1668085125328,
     "user": {
      "displayName": "Kanitin Sd",
      "userId": "09619709062475860508"
     },
     "user_tz": -420
    },
    "id": "88e05f39"
   },
   "outputs": [],
   "source": [
    "# Create output layer \n",
    "# We have 4 classes in our output we decide using activation=\"softmax\" \n",
    "# for multi classification.\n",
    "# Before output layer we decide use GlobalAveragePooling2D as \n",
    "# one type of flatten layer.\n",
    "average_pooling_layer = tf.keras.layers.GlobalAveragePooling2D()(vgg16_model.output) # flatten\n",
    "prediction_layer = tf.keras.layers.Dense(units=4, activation=\"softmax\")(average_pooling_layer)"
   ]
  },
  {
   "cell_type": "code",
   "execution_count": 11,
   "id": "4d0319d5",
   "metadata": {
    "executionInfo": {
     "elapsed": 754,
     "status": "ok",
     "timestamp": 1668085156449,
     "user": {
      "displayName": "Kanitin Sd",
      "userId": "09619709062475860508"
     },
     "user_tz": -420
    },
    "id": "4d0319d5"
   },
   "outputs": [],
   "source": [
    "# Add Input layer and output layer \n",
    "model = tf.keras.models.Model(inputs=vgg16_model.input, \n",
    "                                    outputs=prediction_layer)"
   ]
  },
  {
   "cell_type": "code",
   "execution_count": 12,
   "id": "14cc4098",
   "metadata": {
    "executionInfo": {
     "elapsed": 617,
     "status": "ok",
     "timestamp": 1668085160116,
     "user": {
      "displayName": "Kanitin Sd",
      "userId": "09619709062475860508"
     },
     "user_tz": -420
    },
    "id": "14cc4098"
   },
   "outputs": [],
   "source": [
    "# compile the model         \n",
    "model.compile(loss=\"categorical_crossentropy\", \n",
    "              optimizer = tf.keras.optimizers.Adam(learning_rate=0.001),\n",
    "              metrics=['accuracy'])"
   ]
  },
  {
   "cell_type": "code",
   "execution_count": 13,
   "id": "c-H8A1Nu0E91",
   "metadata": {
    "colab": {
     "base_uri": "https://localhost:8080/"
    },
    "executionInfo": {
     "elapsed": 17,
     "status": "ok",
     "timestamp": 1668085162114,
     "user": {
      "displayName": "Kanitin Sd",
      "userId": "09619709062475860508"
     },
     "user_tz": -420
    },
    "id": "c-H8A1Nu0E91",
    "outputId": "a43527b3-5fda-4193-df9d-a97c076cd012"
   },
   "outputs": [
    {
     "name": "stdout",
     "output_type": "stream",
     "text": [
      "Model: \"model\"\n",
      "_________________________________________________________________\n",
      " Layer (type)                Output Shape              Param #   \n",
      "=================================================================\n",
      " input_1 (InputLayer)        [(None, 224, 224, 3)]     0         \n",
      "                                                                 \n",
      " block1_conv1 (Conv2D)       (None, 224, 224, 64)      1792      \n",
      "                                                                 \n",
      " block1_conv2 (Conv2D)       (None, 224, 224, 64)      36928     \n",
      "                                                                 \n",
      " block1_pool (MaxPooling2D)  (None, 112, 112, 64)      0         \n",
      "                                                                 \n",
      " block2_conv1 (Conv2D)       (None, 112, 112, 128)     73856     \n",
      "                                                                 \n",
      " block2_conv2 (Conv2D)       (None, 112, 112, 128)     147584    \n",
      "                                                                 \n",
      " block2_pool (MaxPooling2D)  (None, 56, 56, 128)       0         \n",
      "                                                                 \n",
      " block3_conv1 (Conv2D)       (None, 56, 56, 256)       295168    \n",
      "                                                                 \n",
      " block3_conv2 (Conv2D)       (None, 56, 56, 256)       590080    \n",
      "                                                                 \n",
      " block3_conv3 (Conv2D)       (None, 56, 56, 256)       590080    \n",
      "                                                                 \n",
      " block3_pool (MaxPooling2D)  (None, 28, 28, 256)       0         \n",
      "                                                                 \n",
      " block4_conv1 (Conv2D)       (None, 28, 28, 512)       1180160   \n",
      "                                                                 \n",
      " block4_conv2 (Conv2D)       (None, 28, 28, 512)       2359808   \n",
      "                                                                 \n",
      " block4_conv3 (Conv2D)       (None, 28, 28, 512)       2359808   \n",
      "                                                                 \n",
      " block4_pool (MaxPooling2D)  (None, 14, 14, 512)       0         \n",
      "                                                                 \n",
      " block5_conv1 (Conv2D)       (None, 14, 14, 512)       2359808   \n",
      "                                                                 \n",
      " block5_conv2 (Conv2D)       (None, 14, 14, 512)       2359808   \n",
      "                                                                 \n",
      " block5_conv3 (Conv2D)       (None, 14, 14, 512)       2359808   \n",
      "                                                                 \n",
      " block5_pool (MaxPooling2D)  (None, 7, 7, 512)         0         \n",
      "                                                                 \n",
      " global_average_pooling2d (G  (None, 512)              0         \n",
      " lobalAveragePooling2D)                                          \n",
      "                                                                 \n",
      " dense (Dense)               (None, 4)                 2052      \n",
      "                                                                 \n",
      "=================================================================\n",
      "Total params: 14,716,740\n",
      "Trainable params: 2,052\n",
      "Non-trainable params: 14,714,688\n",
      "_________________________________________________________________\n"
     ]
    }
   ],
   "source": [
    "# check model summary\n",
    "# total params: 14,716,740 (hidden layers)\n",
    "# trainable params: 2,052 (input and output layers)\n",
    "model.summary()  "
   ]
  },
  {
   "cell_type": "code",
   "execution_count": 14,
   "id": "-0QYI0tb0ROA",
   "metadata": {
    "executionInfo": {
     "elapsed": 951,
     "status": "ok",
     "timestamp": 1668085182999,
     "user": {
      "displayName": "Kanitin Sd",
      "userId": "09619709062475860508"
     },
     "user_tz": -420
    },
    "id": "-0QYI0tb0ROA"
   },
   "outputs": [],
   "source": [
    "# Save checkpoints during training\n",
    "checkpoint_path = \"../model/vgg16/training_vgg16_cp/cp.ckpt\"\n",
    "checkpoint_dir = os.path.dirname(checkpoint_path)\n",
    "\n",
    "# Create a callback that saves the model's weights\n",
    "cp_callback = tf.keras.callbacks.ModelCheckpoint(filepath=checkpoint_path,\n",
    "                                                 save_weights_only=True,\n",
    "                                                 verbose=1)"
   ]
  },
  {
   "cell_type": "code",
   "execution_count": 15,
   "id": "c1831507",
   "metadata": {
    "colab": {
     "base_uri": "https://localhost:8080/"
    },
    "executionInfo": {
     "elapsed": 21624121,
     "status": "ok",
     "timestamp": 1668106839791,
     "user": {
      "displayName": "Kanitin Sd",
      "userId": "09619709062475860508"
     },
     "user_tz": -420
    },
    "id": "c1831507",
    "outputId": "1e088695-ee0c-45be-b97a-1e61a4ad3fcf"
   },
   "outputs": [
    {
     "name": "stdout",
     "output_type": "stream",
     "text": [
      "Epoch 1/25\n",
      "156/156 [==============================] - ETA: 0s - loss: 1.2118 - accuracy: 0.5428\n",
      "Epoch 1: saving model to ../model/vgg16/training_vgg16_cp\\cp.ckpt\n",
      "156/156 [==============================] - 367s 2s/step - loss: 1.2118 - accuracy: 0.5428 - val_loss: 0.9927 - val_accuracy: 0.7047\n",
      "Epoch 2/25\n",
      "156/156 [==============================] - ETA: 0s - loss: 0.9373 - accuracy: 0.6854\n",
      "Epoch 2: saving model to ../model/vgg16/training_vgg16_cp\\cp.ckpt\n",
      "156/156 [==============================] - 311s 2s/step - loss: 0.9373 - accuracy: 0.6854 - val_loss: 0.8401 - val_accuracy: 0.7292\n",
      "Epoch 3/25\n",
      "156/156 [==============================] - ETA: 0s - loss: 0.8297 - accuracy: 0.7113\n",
      "Epoch 3: saving model to ../model/vgg16/training_vgg16_cp\\cp.ckpt\n",
      "156/156 [==============================] - 306s 2s/step - loss: 0.8297 - accuracy: 0.7113 - val_loss: 0.7949 - val_accuracy: 0.7279\n",
      "Epoch 4/25\n",
      "156/156 [==============================] - ETA: 0s - loss: 0.7675 - accuracy: 0.7301\n",
      "Epoch 4: saving model to ../model/vgg16/training_vgg16_cp\\cp.ckpt\n",
      "156/156 [==============================] - 311s 2s/step - loss: 0.7675 - accuracy: 0.7301 - val_loss: 0.7298 - val_accuracy: 0.7525\n",
      "Epoch 5/25\n",
      "156/156 [==============================] - ETA: 0s - loss: 0.7237 - accuracy: 0.7432\n",
      "Epoch 5: saving model to ../model/vgg16/training_vgg16_cp\\cp.ckpt\n",
      "156/156 [==============================] - 307s 2s/step - loss: 0.7237 - accuracy: 0.7432 - val_loss: 0.7095 - val_accuracy: 0.7574\n",
      "Epoch 6/25\n",
      "156/156 [==============================] - ETA: 0s - loss: 0.6920 - accuracy: 0.7546\n",
      "Epoch 6: saving model to ../model/vgg16/training_vgg16_cp\\cp.ckpt\n",
      "156/156 [==============================] - 311s 2s/step - loss: 0.6920 - accuracy: 0.7546 - val_loss: 0.6671 - val_accuracy: 0.7733\n",
      "Epoch 7/25\n",
      "156/156 [==============================] - ETA: 0s - loss: 0.6678 - accuracy: 0.7630\n",
      "Epoch 7: saving model to ../model/vgg16/training_vgg16_cp\\cp.ckpt\n",
      "156/156 [==============================] - 308s 2s/step - loss: 0.6678 - accuracy: 0.7630 - val_loss: 0.6680 - val_accuracy: 0.7672\n",
      "Epoch 8/25\n",
      "156/156 [==============================] - ETA: 0s - loss: 0.6463 - accuracy: 0.7736\n",
      "Epoch 8: saving model to ../model/vgg16/training_vgg16_cp\\cp.ckpt\n",
      "156/156 [==============================] - 311s 2s/step - loss: 0.6463 - accuracy: 0.7736 - val_loss: 0.6471 - val_accuracy: 0.7721\n",
      "Epoch 9/25\n",
      "156/156 [==============================] - ETA: 0s - loss: 0.6282 - accuracy: 0.7771\n",
      "Epoch 9: saving model to ../model/vgg16/training_vgg16_cp\\cp.ckpt\n",
      "156/156 [==============================] - 310s 2s/step - loss: 0.6282 - accuracy: 0.7771 - val_loss: 0.6229 - val_accuracy: 0.7745\n",
      "Epoch 10/25\n",
      "156/156 [==============================] - ETA: 0s - loss: 0.6116 - accuracy: 0.7842\n",
      "Epoch 10: saving model to ../model/vgg16/training_vgg16_cp\\cp.ckpt\n",
      "156/156 [==============================] - 311s 2s/step - loss: 0.6116 - accuracy: 0.7842 - val_loss: 0.5943 - val_accuracy: 0.7917\n",
      "Epoch 11/25\n",
      "156/156 [==============================] - ETA: 0s - loss: 0.5989 - accuracy: 0.7885\n",
      "Epoch 11: saving model to ../model/vgg16/training_vgg16_cp\\cp.ckpt\n",
      "156/156 [==============================] - 324s 2s/step - loss: 0.5989 - accuracy: 0.7885 - val_loss: 0.6087 - val_accuracy: 0.7770\n",
      "Epoch 12/25\n",
      "156/156 [==============================] - ETA: 0s - loss: 0.5863 - accuracy: 0.7926\n",
      "Epoch 12: saving model to ../model/vgg16/training_vgg16_cp\\cp.ckpt\n",
      "156/156 [==============================] - 318s 2s/step - loss: 0.5863 - accuracy: 0.7926 - val_loss: 0.5937 - val_accuracy: 0.7843\n",
      "Epoch 13/25\n",
      "156/156 [==============================] - ETA: 0s - loss: 0.5770 - accuracy: 0.7945\n",
      "Epoch 13: saving model to ../model/vgg16/training_vgg16_cp\\cp.ckpt\n",
      "156/156 [==============================] - 310s 2s/step - loss: 0.5770 - accuracy: 0.7945 - val_loss: 0.5649 - val_accuracy: 0.7990\n",
      "Epoch 14/25\n",
      "156/156 [==============================] - ETA: 0s - loss: 0.5654 - accuracy: 0.8003\n",
      "Epoch 14: saving model to ../model/vgg16/training_vgg16_cp\\cp.ckpt\n",
      "156/156 [==============================] - 311s 2s/step - loss: 0.5654 - accuracy: 0.8003 - val_loss: 0.5975 - val_accuracy: 0.7843\n",
      "Epoch 15/25\n",
      "156/156 [==============================] - ETA: 0s - loss: 0.5581 - accuracy: 0.8031\n",
      "Epoch 15: saving model to ../model/vgg16/training_vgg16_cp\\cp.ckpt\n",
      "156/156 [==============================] - 310s 2s/step - loss: 0.5581 - accuracy: 0.8031 - val_loss: 0.5818 - val_accuracy: 0.7831\n",
      "Epoch 16/25\n",
      "156/156 [==============================] - ETA: 0s - loss: 0.5504 - accuracy: 0.8063\n",
      "Epoch 16: saving model to ../model/vgg16/training_vgg16_cp\\cp.ckpt\n",
      "156/156 [==============================] - 309s 2s/step - loss: 0.5504 - accuracy: 0.8063 - val_loss: 0.5537 - val_accuracy: 0.7966\n",
      "Epoch 17/25\n",
      "156/156 [==============================] - ETA: 0s - loss: 0.5429 - accuracy: 0.8082\n",
      "Epoch 17: saving model to ../model/vgg16/training_vgg16_cp\\cp.ckpt\n",
      "156/156 [==============================] - 308s 2s/step - loss: 0.5429 - accuracy: 0.8082 - val_loss: 0.5690 - val_accuracy: 0.7929\n",
      "Epoch 18/25\n",
      "156/156 [==============================] - ETA: 0s - loss: 0.5354 - accuracy: 0.8118\n",
      "Epoch 18: saving model to ../model/vgg16/training_vgg16_cp\\cp.ckpt\n",
      "156/156 [==============================] - 309s 2s/step - loss: 0.5354 - accuracy: 0.8118 - val_loss: 0.5640 - val_accuracy: 0.7990\n",
      "Epoch 19/25\n",
      "156/156 [==============================] - ETA: 0s - loss: 0.5295 - accuracy: 0.8136\n",
      "Epoch 19: saving model to ../model/vgg16/training_vgg16_cp\\cp.ckpt\n",
      "156/156 [==============================] - 309s 2s/step - loss: 0.5295 - accuracy: 0.8136 - val_loss: 0.5549 - val_accuracy: 0.7892\n",
      "Epoch 20/25\n",
      "156/156 [==============================] - ETA: 0s - loss: 0.5229 - accuracy: 0.8162\n",
      "Epoch 20: saving model to ../model/vgg16/training_vgg16_cp\\cp.ckpt\n",
      "156/156 [==============================] - 310s 2s/step - loss: 0.5229 - accuracy: 0.8162 - val_loss: 0.5416 - val_accuracy: 0.7941\n",
      "Epoch 21/25\n",
      "156/156 [==============================] - ETA: 0s - loss: 0.5183 - accuracy: 0.8162\n",
      "Epoch 21: saving model to ../model/vgg16/training_vgg16_cp\\cp.ckpt\n",
      "156/156 [==============================] - 309s 2s/step - loss: 0.5183 - accuracy: 0.8162 - val_loss: 0.5229 - val_accuracy: 0.8088\n",
      "Epoch 22/25\n",
      "156/156 [==============================] - ETA: 0s - loss: 0.5125 - accuracy: 0.8175\n",
      "Epoch 22: saving model to ../model/vgg16/training_vgg16_cp\\cp.ckpt\n",
      "156/156 [==============================] - 313s 2s/step - loss: 0.5125 - accuracy: 0.8175 - val_loss: 0.5324 - val_accuracy: 0.8027\n",
      "Epoch 23/25\n",
      "156/156 [==============================] - ETA: 0s - loss: 0.5084 - accuracy: 0.8207\n",
      "Epoch 23: saving model to ../model/vgg16/training_vgg16_cp\\cp.ckpt\n",
      "156/156 [==============================] - 309s 2s/step - loss: 0.5084 - accuracy: 0.8207 - val_loss: 0.5219 - val_accuracy: 0.8113\n",
      "Epoch 24/25\n",
      "156/156 [==============================] - ETA: 0s - loss: 0.5021 - accuracy: 0.8223\n",
      "Epoch 24: saving model to ../model/vgg16/training_vgg16_cp\\cp.ckpt\n",
      "156/156 [==============================] - 310s 2s/step - loss: 0.5021 - accuracy: 0.8223 - val_loss: 0.5173 - val_accuracy: 0.8150\n",
      "Epoch 25/25\n",
      "156/156 [==============================] - ETA: 0s - loss: 0.4979 - accuracy: 0.8254\n",
      "Epoch 25: saving model to ../model/vgg16/training_vgg16_cp\\cp.ckpt\n",
      "156/156 [==============================] - 310s 2s/step - loss: 0.4979 - accuracy: 0.8254 - val_loss: 0.5455 - val_accuracy: 0.7953\n"
     ]
    }
   ],
   "source": [
    "# Training model\n",
    "# make sure you truely save checkpoint_path\n",
    "history = model.fit(train_dataset,\n",
    "          epochs=25,\n",
    "          validation_data=valid_dataset,\n",
    "          callbacks=[cp_callback])"
   ]
  },
  {
   "cell_type": "code",
   "execution_count": 17,
   "id": "dwu8XJbHwAXQ",
   "metadata": {
    "colab": {
     "base_uri": "https://localhost:8080/",
     "height": 350
    },
    "executionInfo": {
     "elapsed": 16,
     "status": "ok",
     "timestamp": 1668106844562,
     "user": {
      "displayName": "Kanitin Sd",
      "userId": "09619709062475860508"
     },
     "user_tz": -420
    },
    "id": "dwu8XJbHwAXQ",
    "outputId": "0098cb0e-732b-4d49-86cd-b589b64a4a49"
   },
   "outputs": [
    {
     "data": {
      "image/png": "[encoded data removed]",
      "text/plain": [
       "<Figure size 1400x500 with 2 Axes>"
      ]
     },
     "metadata": {},
     "output_type": "display_data"
    }
   ],
   "source": [
    "# plot graph \n",
    "plot_graph(history)\n",
    "\n",
    "# Not overfitting between training and validation \n",
    "# Final accuracy after training 25 epochs was score in training, 0.83% \n",
    "# and vaildaion 0.80%\n",
    "# Loss function after training 25 epochs was score in training, 0.50% \n",
    "# and vaildaion 0.55%\n",
    "# Lower perfomance than baseline model \n",
    "\n",
    "# Good performance! but not enough!  \n",
    "# We have choice to improve the model futher."
   ]
  },
  {
   "cell_type": "code",
   "execution_count": 31,
   "id": "ffda3f1f",
   "metadata": {},
   "outputs": [
    {
     "data": {
      "text/html": [
       "<div>\n",
       "<style scoped>\n",
       "    .dataframe tbody tr th:only-of-type {\n",
       "        vertical-align: middle;\n",
       "    }\n",
       "\n",
       "    .dataframe tbody tr th {\n",
       "        vertical-align: top;\n",
       "    }\n",
       "\n",
       "    .dataframe thead th {\n",
       "        text-align: right;\n",
       "    }\n",
       "</style>\n",
       "<table border=\"1\" class=\"dataframe\">\n",
       "  <thead>\n",
       "    <tr style=\"text-align: right;\">\n",
       "      <th></th>\n",
       "      <th>loss</th>\n",
       "      <th>accuracy</th>\n",
       "      <th>val_loss</th>\n",
       "      <th>val_accuracy</th>\n",
       "    </tr>\n",
       "  </thead>\n",
       "  <tbody>\n",
       "    <tr>\n",
       "      <th>0</th>\n",
       "      <td>1.211807</td>\n",
       "      <td>0.542843</td>\n",
       "      <td>0.992671</td>\n",
       "      <td>0.704657</td>\n",
       "    </tr>\n",
       "    <tr>\n",
       "      <th>1</th>\n",
       "      <td>0.937318</td>\n",
       "      <td>0.685351</td>\n",
       "      <td>0.840077</td>\n",
       "      <td>0.729167</td>\n",
       "    </tr>\n",
       "    <tr>\n",
       "      <th>2</th>\n",
       "      <td>0.829674</td>\n",
       "      <td>0.711262</td>\n",
       "      <td>0.794889</td>\n",
       "      <td>0.727941</td>\n",
       "    </tr>\n",
       "    <tr>\n",
       "      <th>3</th>\n",
       "      <td>0.767488</td>\n",
       "      <td>0.730118</td>\n",
       "      <td>0.729752</td>\n",
       "      <td>0.752451</td>\n",
       "    </tr>\n",
       "    <tr>\n",
       "      <th>4</th>\n",
       "      <td>0.723653</td>\n",
       "      <td>0.743202</td>\n",
       "      <td>0.709460</td>\n",
       "      <td>0.757353</td>\n",
       "    </tr>\n",
       "  </tbody>\n",
       "</table>\n",
       "</div>"
      ],
      "text/plain": [
       "       loss  accuracy  val_loss  val_accuracy\n",
       "0  1.211807  0.542843  0.992671      0.704657\n",
       "1  0.937318  0.685351  0.840077      0.729167\n",
       "2  0.829674  0.711262  0.794889      0.727941\n",
       "3  0.767488  0.730118  0.729752      0.752451\n",
       "4  0.723653  0.743202  0.709460      0.757353"
      ]
     },
     "execution_count": 31,
     "metadata": {},
     "output_type": "execute_result"
    }
   ],
   "source": [
    "# convert the history.history dict to a pandas DataFrame:     \n",
    "hist_df = pd.DataFrame(history.history) \n",
    "hist_df.head()"
   ]
  },
  {
   "cell_type": "code",
   "execution_count": 32,
   "id": "b6740a1a",
   "metadata": {},
   "outputs": [],
   "source": [
    "# save history to csv: \n",
    "hist_csv_file = 'history_vgg16.csv'\n",
    "with open(hist_csv_file, mode='w') as f:\n",
    "    hist_df.to_csv(f)"
   ]
  },
  {
   "cell_type": "code",
   "execution_count": 30,
   "id": "bk-uKiDLwF8a",
   "metadata": {
    "executionInfo": {
     "elapsed": 9,
     "status": "ok",
     "timestamp": 1668106844564,
     "user": {
      "displayName": "Kanitin Sd",
      "userId": "09619709062475860508"
     },
     "user_tz": -420
    },
    "id": "bk-uKiDLwF8a"
   },
   "outputs": [],
   "source": [
    "# save model\n",
    "model.save(\"../model/vgg16/vgg_16.h5\")"
   ]
  },
  {
   "cell_type": "markdown",
   "id": "013a6607",
   "metadata": {},
   "source": [
    "---"
   ]
  },
  {
   "cell_type": "markdown",
   "id": "6t7zmCebwO4S",
   "metadata": {
    "id": "6t7zmCebwO4S"
   },
   "source": [
    "#### Fine tuning\n",
    "---"
   ]
  },
  {
   "cell_type": "markdown",
   "id": "200bf5d5",
   "metadata": {},
   "source": [
    "![vgg_ft](../picture/vgg_ft.png)\n",
    "Fine-tuning is a way of applying or utilizing transfer learning. Specifically, fine-tuning is a process that takes a model that has already been trained for one given task and then tunes or tweaks the model to make it perform a second similar task.\n",
    "\n",
    "we don't want the weights for these layers to update whenever we train the model on our new data for our new task. We want to keep all of these weights the same as they were after being trained on the original task. We only want the weights in our new or modified layers to be updating. After we do this, all that's left is just to train the model on our new data. Again, during this training process, the weights from all the layers we kept from our original model will stay the same, and only the weights in our new layers will be updating.[Source](https://deeplizard.com/learn/video/5T-iXNNiwIs)\n",
    "\n",
    "We decide to fix the weight in our model 0 - 14 layers because that are related with structure of image but after layer related with feature of image. "
   ]
  },
  {
   "cell_type": "code",
   "execution_count": 15,
   "id": "7f8113a7",
   "metadata": {},
   "outputs": [
    {
     "name": "stdout",
     "output_type": "stream",
     "text": [
      "Number of layers in the base model:  19\n",
      "0 input_2 False\n",
      "1 block1_conv1 False\n",
      "2 block1_conv2 False\n",
      "3 block1_pool False\n",
      "4 block2_conv1 False\n",
      "5 block2_conv2 False\n",
      "6 block2_pool False\n",
      "7 block3_conv1 False\n",
      "8 block3_conv2 False\n",
      "9 block3_conv3 False\n",
      "10 block3_pool False\n",
      "11 block4_conv1 False\n",
      "12 block4_conv2 False\n",
      "13 block4_conv3 False\n",
      "14 block4_pool False\n",
      "15 block5_conv1 True\n",
      "16 block5_conv2 True\n",
      "17 block5_conv3 True\n",
      "18 block5_pool True\n"
     ]
    }
   ],
   "source": [
    "img_height = 224 # Set the height of the picture\n",
    "img_width = 224 # Set the width of the picture\n",
    "\n",
    "# load model\n",
    "vgg16_model = tf.keras.applications.VGG16(input_shape=(img_height, img_width,3),\n",
    "                                          include_top=False, # Transfer learning\n",
    "                                          weights=\"imagenet\",\n",
    "                                          )  \n",
    "\n",
    "# Let's take a look to see how many layers are in the base model\n",
    "print(\"Number of layers in the base model: \", len(vgg16_model.layers))\n",
    "\n",
    "# Fine-tune from this layer onwards\n",
    "fine_tune_at = 15\n",
    "\n",
    "# Freeze all the layers before the `fine_tune_at` layer\n",
    "for layer in vgg16_model.layers[:fine_tune_at]:\n",
    "    layer.trainable = False\n",
    "\n",
    "# Make sure you have frozen the correct layers\n",
    "for i, layer in enumerate(vgg16_model.layers):\n",
    "    print(i, layer.name, layer.trainable)\n",
    "\n",
    "# Add input layers and output layers\n",
    "average_pooling_layer = tf.keras.layers.GlobalAveragePooling2D()(vgg16_model.output) # flatten\n",
    "prediction_layer = tf.keras.layers.Dense(units=4, activation=\"softmax\")(average_pooling_layer)\n",
    "fineture_model = tf.keras.models.Model(inputs=vgg16_model.input, \n",
    "                                     outputs=prediction_layer)\n",
    "\n",
    "# Compile the model         \n",
    "fineture_model.compile(loss=\"categorical_crossentropy\", \n",
    "                       optimizer = tf.keras.optimizers.Adam(learning_rate=0.001),\n",
    "                       metrics=['accuracy'])"
   ]
  },
  {
   "cell_type": "code",
   "execution_count": 16,
   "id": "4acc7e18",
   "metadata": {},
   "outputs": [],
   "source": [
    "# Save checkpoints during training\n",
    "# follow value of vaildation scorce \n",
    "checkpoint = tf.keras.callbacks.ModelCheckpoint('../model/vgg16/vgg_16_tf.h5', \n",
    "                             monitor= 'val_accuracy', \n",
    "                             mode= 'max', \n",
    "                             save_best_only = True, \n",
    "                             verbose= 1)"
   ]
  },
  {
   "cell_type": "code",
   "execution_count": 17,
   "id": "084bc65c",
   "metadata": {},
   "outputs": [
    {
     "name": "stdout",
     "output_type": "stream",
     "text": [
      "Epoch 1/25\n",
      "156/156 [==============================] - ETA: 0s - loss: 0.6893 - accuracy: 0.7346\n",
      "Epoch 1: val_accuracy improved from -inf to 0.84559, saving model to ../model/vgg16\\vgg_16_tf.h5\n",
      "156/156 [==============================] - 396s 2s/step - loss: 0.6893 - accuracy: 0.7346 - val_loss: 0.4758 - val_accuracy: 0.8456\n",
      "Epoch 2/25\n",
      "156/156 [==============================] - ETA: 0s - loss: 0.3141 - accuracy: 0.8888\n",
      "Epoch 2: val_accuracy improved from 0.84559 to 0.90074, saving model to ../model/vgg16\\vgg_16_tf.h5\n",
      "156/156 [==============================] - 303s 2s/step - loss: 0.3141 - accuracy: 0.8888 - val_loss: 0.3223 - val_accuracy: 0.9007\n",
      "Epoch 3/25\n",
      "156/156 [==============================] - ETA: 0s - loss: 0.2520 - accuracy: 0.9160\n",
      "Epoch 3: val_accuracy did not improve from 0.90074\n",
      "156/156 [==============================] - 306s 2s/step - loss: 0.2520 - accuracy: 0.9160 - val_loss: 0.3225 - val_accuracy: 0.8983\n",
      "Epoch 4/25\n",
      "156/156 [==============================] - ETA: 0s - loss: 0.1803 - accuracy: 0.9396\n",
      "Epoch 4: val_accuracy improved from 0.90074 to 0.92892, saving model to ../model/vgg16\\vgg_16_tf.h5\n",
      "156/156 [==============================] - 307s 2s/step - loss: 0.1803 - accuracy: 0.9396 - val_loss: 0.2542 - val_accuracy: 0.9289\n",
      "Epoch 5/25\n",
      "156/156 [==============================] - ETA: 0s - loss: 0.1335 - accuracy: 0.9551\n",
      "Epoch 5: val_accuracy improved from 0.92892 to 0.93015, saving model to ../model/vgg16\\vgg_16_tf.h5\n",
      "156/156 [==============================] - 307s 2s/step - loss: 0.1335 - accuracy: 0.9551 - val_loss: 0.2464 - val_accuracy: 0.9301\n",
      "Epoch 6/25\n",
      "156/156 [==============================] - ETA: 0s - loss: 0.1050 - accuracy: 0.9640\n",
      "Epoch 6: val_accuracy did not improve from 0.93015\n",
      "156/156 [==============================] - 307s 2s/step - loss: 0.1050 - accuracy: 0.9640 - val_loss: 0.2611 - val_accuracy: 0.9289\n",
      "Epoch 7/25\n",
      "156/156 [==============================] - ETA: 0s - loss: 0.0957 - accuracy: 0.9661\n",
      "Epoch 7: val_accuracy did not improve from 0.93015\n",
      "156/156 [==============================] - 308s 2s/step - loss: 0.0957 - accuracy: 0.9661 - val_loss: 0.3168 - val_accuracy: 0.9105\n",
      "Epoch 8/25\n",
      "156/156 [==============================] - ETA: 0s - loss: 0.0745 - accuracy: 0.9742\n",
      "Epoch 8: val_accuracy did not improve from 0.93015\n",
      "156/156 [==============================] - 310s 2s/step - loss: 0.0745 - accuracy: 0.9742 - val_loss: 0.2784 - val_accuracy: 0.9301\n",
      "Epoch 9/25\n",
      "156/156 [==============================] - ETA: 0s - loss: 0.0650 - accuracy: 0.9740\n",
      "Epoch 9: val_accuracy did not improve from 0.93015\n",
      "156/156 [==============================] - 311s 2s/step - loss: 0.0650 - accuracy: 0.9740 - val_loss: 0.2571 - val_accuracy: 0.9301\n",
      "Epoch 10/25\n",
      "156/156 [==============================] - ETA: 0s - loss: 0.0617 - accuracy: 0.9815\n",
      "Epoch 10: val_accuracy did not improve from 0.93015\n",
      "156/156 [==============================] - 307s 2s/step - loss: 0.0617 - accuracy: 0.9815 - val_loss: 0.3340 - val_accuracy: 0.9228\n",
      "Epoch 11/25\n",
      "156/156 [==============================] - ETA: 0s - loss: 0.0482 - accuracy: 0.9828\n",
      "Epoch 11: val_accuracy did not improve from 0.93015\n",
      "156/156 [==============================] - 308s 2s/step - loss: 0.0482 - accuracy: 0.9828 - val_loss: 0.3264 - val_accuracy: 0.9252\n",
      "Epoch 12/25\n",
      "156/156 [==============================] - ETA: 0s - loss: 0.0364 - accuracy: 0.9878\n",
      "Epoch 12: val_accuracy improved from 0.93015 to 0.93627, saving model to ../model/vgg16\\vgg_16_tf.h5\n",
      "156/156 [==============================] - 310s 2s/step - loss: 0.0364 - accuracy: 0.9878 - val_loss: 0.3102 - val_accuracy: 0.9363\n",
      "Epoch 13/25\n",
      "156/156 [==============================] - ETA: 0s - loss: 0.0379 - accuracy: 0.9877\n",
      "Epoch 13: val_accuracy did not improve from 0.93627\n",
      "156/156 [==============================] - 310s 2s/step - loss: 0.0379 - accuracy: 0.9877 - val_loss: 0.3622 - val_accuracy: 0.9265\n",
      "Epoch 14/25\n",
      "156/156 [==============================] - ETA: 0s - loss: 0.0371 - accuracy: 0.9888\n",
      "Epoch 14: val_accuracy did not improve from 0.93627\n",
      "156/156 [==============================] - 308s 2s/step - loss: 0.0371 - accuracy: 0.9888 - val_loss: 0.3815 - val_accuracy: 0.9252\n",
      "Epoch 15/25\n",
      "156/156 [==============================] - ETA: 0s - loss: 0.0346 - accuracy: 0.9879\n",
      "Epoch 15: val_accuracy did not improve from 0.93627\n",
      "156/156 [==============================] - 308s 2s/step - loss: 0.0346 - accuracy: 0.9879 - val_loss: 0.4647 - val_accuracy: 0.9118\n",
      "Epoch 16/25\n",
      "156/156 [==============================] - ETA: 0s - loss: 0.0540 - accuracy: 0.9827\n",
      "Epoch 16: val_accuracy did not improve from 0.93627\n",
      "156/156 [==============================] - 309s 2s/step - loss: 0.0540 - accuracy: 0.9827 - val_loss: 0.5642 - val_accuracy: 0.8775\n",
      "Epoch 17/25\n",
      "156/156 [==============================] - ETA: 0s - loss: 0.0546 - accuracy: 0.9837\n",
      "Epoch 17: val_accuracy did not improve from 0.93627\n",
      "156/156 [==============================] - 309s 2s/step - loss: 0.0546 - accuracy: 0.9837 - val_loss: 0.3804 - val_accuracy: 0.9338\n",
      "Epoch 18/25\n",
      "156/156 [==============================] - ETA: 0s - loss: 0.0206 - accuracy: 0.9926\n",
      "Epoch 18: val_accuracy did not improve from 0.93627\n",
      "156/156 [==============================] - 310s 2s/step - loss: 0.0206 - accuracy: 0.9926 - val_loss: 0.3432 - val_accuracy: 0.9338\n",
      "Epoch 19/25\n",
      "156/156 [==============================] - ETA: 0s - loss: 0.0144 - accuracy: 0.9949\n",
      "Epoch 19: val_accuracy did not improve from 0.93627\n",
      "156/156 [==============================] - 309s 2s/step - loss: 0.0144 - accuracy: 0.9949 - val_loss: 0.4096 - val_accuracy: 0.9216\n",
      "Epoch 20/25\n",
      "156/156 [==============================] - ETA: 0s - loss: 0.0117 - accuracy: 0.9968\n",
      "Epoch 20: val_accuracy did not improve from 0.93627\n",
      "156/156 [==============================] - 310s 2s/step - loss: 0.0117 - accuracy: 0.9968 - val_loss: 0.4244 - val_accuracy: 0.9240\n",
      "Epoch 21/25\n",
      "156/156 [==============================] - ETA: 0s - loss: 0.0091 - accuracy: 0.9967\n",
      "Epoch 21: val_accuracy improved from 0.93627 to 0.93873, saving model to ../model/vgg16\\vgg_16_tf.h5\n",
      "156/156 [==============================] - 310s 2s/step - loss: 0.0091 - accuracy: 0.9967 - val_loss: 0.4258 - val_accuracy: 0.9387\n",
      "Epoch 22/25\n",
      "156/156 [==============================] - ETA: 0s - loss: 0.0146 - accuracy: 0.9947\n",
      "Epoch 22: val_accuracy did not improve from 0.93873\n",
      "156/156 [==============================] - 309s 2s/step - loss: 0.0146 - accuracy: 0.9947 - val_loss: 0.4534 - val_accuracy: 0.9277\n",
      "Epoch 23/25\n",
      "156/156 [==============================] - ETA: 0s - loss: 0.0278 - accuracy: 0.9915\n",
      "Epoch 23: val_accuracy did not improve from 0.93873\n",
      "156/156 [==============================] - 308s 2s/step - loss: 0.0278 - accuracy: 0.9915 - val_loss: 0.4001 - val_accuracy: 0.9350\n",
      "Epoch 24/25\n",
      "156/156 [==============================] - ETA: 0s - loss: 0.0505 - accuracy: 0.9858\n",
      "Epoch 24: val_accuracy did not improve from 0.93873\n",
      "156/156 [==============================] - 310s 2s/step - loss: 0.0505 - accuracy: 0.9858 - val_loss: 0.4792 - val_accuracy: 0.9350\n",
      "Epoch 25/25\n",
      "156/156 [==============================] - ETA: 0s - loss: 0.0344 - accuracy: 0.9876\n",
      "Epoch 25: val_accuracy did not improve from 0.93873\n",
      "156/156 [==============================] - 309s 2s/step - loss: 0.0344 - accuracy: 0.9876 - val_loss: 0.4426 - val_accuracy: 0.9265\n"
     ]
    }
   ],
   "source": [
    "# Training model\n",
    "# make sure you truely save checkpoint_path\n",
    "history_ft = fineture_model.fit(train_dataset,  \n",
    "                             epochs=25, \n",
    "                             validation_data=valid_dataset, \n",
    "                             callbacks=[checkpoint]) "
   ]
  },
  {
   "cell_type": "code",
   "execution_count": 18,
   "id": "ed541888",
   "metadata": {},
   "outputs": [
    {
     "data": {
      "image/png": "[encoded data removed]",
      "text/plain": [
       "<Figure size 1400x500 with 2 Axes>"
      ]
     },
     "metadata": {},
     "output_type": "display_data"
    }
   ],
   "source": [
    "# plot graph \n",
    "plot_graph(history_ft)\n",
    "\n",
    "# Overfitting between training and validation \n",
    "# Final accuracy after fine tuning 25 epochs is up score in training 1.00% (at 21 epoch)\n",
    "# and vaildaion 0.94% (better than transfer learning)\n",
    "# Loss function after training 25 epochs is down score in training 0.01% (at 21 epoch)\n",
    "# and vaildaion 0.43% (better than transfer learning)\n",
    "# Higher perfomance than baseline model  "
   ]
  },
  {
   "cell_type": "code",
   "execution_count": 19,
   "id": "14db6abd",
   "metadata": {},
   "outputs": [],
   "source": [
    "# convert the history.history dict to a pandas DataFrame:     \n",
    "hist_df = pd.DataFrame(history_ft.history) \n",
    "hist_df.head()\n",
    "\n",
    "# save to csv: \n",
    "hist_csv_file = '../model/vgg16/history_vgg16_ft.csv'\n",
    "with open(hist_csv_file, mode='w') as f:\n",
    "    hist_df.to_csv(f)"
   ]
  },
  {
   "cell_type": "code",
   "execution_count": 20,
   "id": "4482622a",
   "metadata": {},
   "outputs": [],
   "source": [
    "# save model after fine tuning \n",
    "fineture_model.save(\"../model/vgg16/vgg_16_ft.h5\")"
   ]
  },
  {
   "cell_type": "markdown",
   "id": "fa251218",
   "metadata": {},
   "source": [
    "---"
   ]
  }
 ],
 "metadata": {
  "accelerator": "GPU",
  "colab": {
   "machine_shape": "hm",
   "provenance": []
  },
  "gpuClass": "standard",
  "kernelspec": {
   "display_name": "Python 3 (ipykernel)",
   "language": "python",
   "name": "python3"
  },
  "language_info": {
   "codemirror_mode": {
    "name": "ipython",
    "version": 3
   },
   "file_extension": ".py",
   "mimetype": "text/x-python",
   "name": "python",
   "nbconvert_exporter": "python",
   "pygments_lexer": "ipython3",
   "version": "3.9.12"
  }
 },
 "nbformat": 4,
 "nbformat_minor": 5
}
